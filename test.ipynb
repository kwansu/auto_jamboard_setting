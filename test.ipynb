{
 "cells": [
  {
   "cell_type": "code",
   "execution_count": 1,
   "metadata": {},
   "outputs": [],
   "source": [
    "from selenium import webdriver\n",
    "from selenium.webdriver.chrome.options import Options\n",
    "import chromedriver_autoinstaller\n",
    "import subprocess\n",
    "import pyautogui\n",
    "import time"
   ]
  },
  {
   "cell_type": "code",
   "execution_count": 2,
   "metadata": {},
   "outputs": [
    {
     "name": "stderr",
     "output_type": "stream",
     "text": [
      "C:\\Users\\kwansu\\AppData\\Local\\Temp/ipykernel_12776/1603264565.py:12: DeprecationWarning: executable_path has been deprecated, please pass in a Service object\n",
      "  driver = webdriver.Chrome(f'./{chrome_ver}/chromedriver.exe', options=option)\n"
     ]
    }
   ],
   "source": [
    "url = \"https://jamboard.google.com/d/1W7XOS_k60r0AqNOsexBd0rz25aqh08wiyi3xTwc7G1c/edit?usp=sharing\"\n",
    "user_id = \"kwansu91@gmail.com\"\n",
    "user_pw = \"rhkstn6144\"\n",
    "subprocess.Popen(r'C:\\Program Files\\Google\\Chrome\\Application\\chrome.exe --remote-debugging-port=9222 --user-data-dir=\"C:\\chrometemp\"') # 디버거 크롬 구동\n",
    "\n",
    "\n",
    "option = Options()\n",
    "option.add_experimental_option(\"debuggerAddress\", \"127.0.0.1:9222\")\n",
    "\n",
    "chrome_ver = chromedriver_autoinstaller.get_chrome_version().split('.')[0]\n",
    "try:\n",
    "    driver = webdriver.Chrome(f'./{chrome_ver}/chromedriver.exe', options=option)\n",
    "except:\n",
    "    chromedriver_autoinstaller.install(True)\n",
    "    driver = webdriver.Chrome(f'./{chrome_ver}/chromedriver.exe', options=option)\n",
    "driver.implicitly_wait(10)\n",
    "driver.get(url)\n",
    "\n",
    "# 로그인\n",
    "# time.sleep(1)   # wait a process\n",
    "# element_login = driver.find_element_by_class_name('gb_1.gb_2.gb_1d.gb_1c')\n",
    "# element_login.click()\n",
    "# driver.implicitly_wait(10)\n",
    "\n",
    "# time.sleep(1)\n",
    "# pyautogui.press('tab')\n",
    "# time.sleep(1)\n",
    "# # pyautogui.write(user_id)\n",
    "# # pyautogui.press('tab', presses=3)   # Press the Tab key 3 times\n",
    "# # time.sleep(1)\n",
    "# pyautogui.press('enter')\n",
    "# time.sleep(3)\n",
    "# pyautogui.write(user_pw)\n",
    "# pyautogui.press('enter')"
   ]
  },
  {
   "cell_type": "code",
   "execution_count": 8,
   "metadata": {},
   "outputs": [
    {
     "name": "stderr",
     "output_type": "stream",
     "text": [
      "C:\\Users\\kwansu\\AppData\\Local\\Temp/ipykernel_11248/732720616.py:3: DeprecationWarning: find_element_by_* commands are deprecated. Please use find_element() instead\n",
      "  element_t = driver.find_element_by_id('frameBackgroundButton')\n",
      "C:\\Users\\kwansu\\AppData\\Local\\Temp/ipykernel_11248/732720616.py:7: DeprecationWarning: find_element_by_* commands are deprecated. Please use find_element() instead\n",
      "  element_t2 = driver.find_element_by_xpath('/html/body/div[20]/div/table/tbody/tr[2]/td[4]')\n"
     ]
    }
   ],
   "source": [
    "time.sleep(2)\n",
    "# 배경 추가\n",
    "element_t = driver.find_element_by_id('frameBackgroundButton')\n",
    "element_t.click()\n",
    "driver.implicitly_wait(3)\n",
    "\n",
    "element_t2 = driver.find_element_by_xpath('/html/body/div[20]/div/table/tbody/tr[2]/td[4]')\n",
    "element_t2.click()"
   ]
  },
  {
   "cell_type": "code",
   "execution_count": 4,
   "metadata": {},
   "outputs": [],
   "source": [
    "from selenium.webdriver.remote.webelement import WebElement\n",
    "import os.path\n",
    "\n",
    "JS_DROP_FILES = \"var c=arguments,b=c[0],k=c[1];c=c[2];for(var d=b.ownerDocument||document,l=0;;){var e=b.getBoundingClientRect(),g=e.left+(k||e.width/2),h=e.top+(c||e.height/2),f=d.elementFromPoint(g,h);if(f&&b.contains(f))break;if(1<++l)throw b=Error('Element not interactable'),b.code=15,b;b.scrollIntoView({behavior:'instant',block:'center',inline:'center'})}var a=d.createElement('INPUT');a.setAttribute('type','file');a.setAttribute('multiple','');a.setAttribute('style','position:fixed;z-index:2147483647;left:0;top:0;');a.onchange=function(b){a.parentElement.removeChild(a);b.stopPropagation();var c={constructor:DataTransfer,effectAllowed:'all',dropEffect:'none',types:['Files'],files:a.files,setData:function(){},getData:function(){},clearData:function(){},setDragImage:function(){}};window.DataTransferItemList&&(c.items=Object.setPrototypeOf(Array.prototype.map.call(a.files,function(a){return{constructor:DataTransferItem,kind:'file',type:a.type,getAsFile:function(){return a},getAsString:function(b){var c=new FileReader;c.onload=function(a){b(a.target.result)};c.readAsText(a)}}}),{constructor:DataTransferItemList,add:function(){},clear:function(){},remove:function(){}}));['dragenter','dragover','drop'].forEach(function(a){var b=d.createEvent('DragEvent');b.initMouseEvent(a,!0,!0,d.defaultView,0,0,0,g,h,!1,!1,!1,!1,0,null);Object.setPrototypeOf(b,null);b.dataTransfer=c;Object.setPrototypeOf(b,DragEvent.prototype);f.dispatchEvent(b)})};d.documentElement.appendChild(a);a.getBoundingClientRect();return a;\"\n",
    "\n",
    "def drop_files(element, files, offsetX=0, offsetY=0):\n",
    "    driver = element.parent\n",
    "    isLocal = not driver._is_remote or '127.0.0.1' in driver.command_executor._url\n",
    "    paths = []\n",
    "    \n",
    "    # ensure files are present, and upload to the remote server if session is remote\n",
    "    for file in (files if isinstance(files, list) else [files]) :\n",
    "        if not os.path.isfile(file) :\n",
    "            raise FileNotFoundError(file)\n",
    "        paths.append(file if isLocal else element._upload(file))\n",
    "    \n",
    "    value = '\\n'.join(paths)\n",
    "    elm_input = driver.execute_script(JS_DROP_FILES, element, offsetX, offsetY)\n",
    "    elm_input._execute('sendKeysToElement', {'value': [value], 'text': value})\n",
    "\n",
    "WebElement.drop_files = drop_files"
   ]
  },
  {
   "cell_type": "code",
   "execution_count": 9,
   "metadata": {},
   "outputs": [
    {
     "name": "stdout",
     "output_type": "stream",
     "text": [
      "name : \n",
      "name : \n",
      "name : \n",
      "name : \n",
      "name : I0_1642574229196\n"
     ]
    },
    {
     "name": "stderr",
     "output_type": "stream",
     "text": [
      "C:\\Users\\kwansu\\AppData\\Local\\Temp/ipykernel_11248/1438192880.py:1: DeprecationWarning: find_elements_by_* commands are deprecated. Please use find_elements() instead\n",
      "  iframes = driver.find_elements_by_css_selector('iframe')\n"
     ]
    },
    {
     "data": {
      "text/plain": [
       "5"
      ]
     },
     "execution_count": 9,
     "metadata": {},
     "output_type": "execute_result"
    }
   ],
   "source": [
    "iframes = driver.find_elements_by_css_selector('iframe')\n",
    "for iframe in iframes:\n",
    "    print(\"name : \", end=\"\")\n",
    "    print(iframe.get_attribute('name'))\n",
    "\n",
    "len(iframes)"
   ]
  },
  {
   "cell_type": "code",
   "execution_count": 10,
   "metadata": {},
   "outputs": [
    {
     "name": "stderr",
     "output_type": "stream",
     "text": [
      "C:\\Users\\kwansu\\AppData\\Local\\Temp/ipykernel_11248/3792096785.py:2: DeprecationWarning: find_element_by_* commands are deprecated. Please use find_element() instead\n",
      "  dropzone = driver.find_element_by_class_name('Y7Vyje')\n"
     ]
    }
   ],
   "source": [
    "driver.switch_to.frame(iframes[-1].get_attribute('name'))\n",
    "dropzone = driver.find_element_by_class_name('Y7Vyje')\n",
    "dropzone.drop_files(\"C:\\\\Users\\\\kwansu\\\\Downloads\\\\Lecture 2- Exploration and control_slides\\\\Lecture 2- Exploration and control_slides-12.png\")"
   ]
  },
  {
   "cell_type": "code",
   "execution_count": 13,
   "metadata": {},
   "outputs": [
    {
     "name": "stderr",
     "output_type": "stream",
     "text": [
      "C:\\Users\\kwansu\\AppData\\Local\\Temp/ipykernel_11248/3259117202.py:2: DeprecationWarning: find_element_by_* commands are deprecated. Please use find_element() instead\n",
      "  driver.find_element_by_xpath('/html/body/div[2]/div[2]/div[2]/div/div[3]').click()\n"
     ]
    }
   ],
   "source": [
    "#driver.switch_to.parent_frame()\n",
    "driver.find_element_by_xpath('/html/body/div[2]/div[2]/div[2]/div/div[3]').click()\n",
    "driver.implicitly_wait(5)"
   ]
  },
  {
   "cell_type": "code",
   "execution_count": 5,
   "metadata": {},
   "outputs": [],
   "source": [
    "driver.close()\n",
    "driver.quit()\n",
    "driver = None"
   ]
  },
  {
   "cell_type": "code",
   "execution_count": null,
   "metadata": {},
   "outputs": [],
   "source": []
  }
 ],
 "metadata": {
  "interpreter": {
   "hash": "d3e0b1aa5a5eba416460312beb476875fdc03f86e08fcd56912a6afb1187b8f2"
  },
  "kernelspec": {
   "display_name": "Python 3.8.12 64-bit ('crawling': conda)",
   "language": "python",
   "name": "python3"
  },
  "language_info": {
   "codemirror_mode": {
    "name": "ipython",
    "version": 3
   },
   "file_extension": ".py",
   "mimetype": "text/x-python",
   "name": "python",
   "nbconvert_exporter": "python",
   "pygments_lexer": "ipython3",
   "version": "3.8.12"
  },
  "orig_nbformat": 4
 },
 "nbformat": 4,
 "nbformat_minor": 2
}
